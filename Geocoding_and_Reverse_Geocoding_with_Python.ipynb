{
 "cells": [
  {
   "cell_type": "markdown",
   "metadata": {},
   "source": [
    "## DataCamp Tutorial - Geocoding and Reverse Geocoding with Python\n",
    "\n",
    "The increasing use of location-aware data and technologies that are able to give directions relative to location and access geographically aware data has given rise to category of data scientists with strong knowledge of geospatial data - Geo-data Scientists.\n",
    "\n",
    "In this tutorial, you will discover how to use PYTHON to carry out geocoding task. Specifically, you will learn to use GeoPy, Pandas and Folium PYTHON libraries to complete geocoding tasks. Because this is a geocoding tutorial, the article will cover more of GeoPy than Pandas. If you are not familiar with Pandas, you should definitely consider studying the <a href=\"https://www.datacamp.com/community/tutorials/pandas-tutorial-dataframe-python\">Pandas Tutorial by Karlijn Willems</a> so also this <a href=\"http://datacamp-community.s3.amazonaws.com/9f0f2ae1-8bd8-4302-a67b-e17f3059d9e8\">Pandas cheat sheet</a> will be handy to your learning.\n",
    "\n",
    "\n",
    "\n",
    "### Tutorial Overview\n",
    "<ul>\n",
    "  <li>What is Geocoding?</li>\n",
    "  <li>Geocoding with Python</li>\n",
    "  <li>Putting it all together – Bulk Geocoding</li>\n",
    "  <li>Accuracy of the Result</li>\n",
    "  <li>Mapping Geocoding Result</li>\n",
    "  <li>Conclusion</li>\n",
    "</ul>\n",
    "<hr />\n",
    "\n",
    "\n",
    "### What is Geocoding?\n",
    "A very common task faced by Geo-data Scientist is the conversion of physical human-readable addresses of places into latitude and longitude geographical coordinates. This process is known as “<a href=\"https://en.wikipedia.org/wiki/Geocoding\">Geocoding</a>” while the reverse case (that is converting latitude and longitude coordinates into physical addresses) is known as “<a href=\"https://en.wikipedia.org/wiki/Reverse_geocoding\">Reverse Geocoding</a>”. To clarify this explanation, here is an example using the datacamp USA office address:-\n",
    "\n",
    "<a href=\"https://www.datacamp.com/contact-us\"><img src='https://1.bp.blogspot.com/-Enb6vk8j1kI/WkyRIhZDZEI/AAAAAAAACFI/dWOZSEEGsZQqtQhTu10Yj7dNBZbZM0d1wCLcBGAs/s1600/geocoding_datacamp.PNG' width=\"700px\" height=\"700px\" /></a>\n",
    "\n",
    "<u>Geocoding:</u> is converting an address like “<b>Empire State Building 350 5th Ave, Floor 77 New York, NY 10118</b>” to “latitude <b>40.7484284</b>, longitude <b>-73.9856546</b>”.<br /> <br />\n",
    "<u>Reverse Geocoding:</u> is converting “latitude <b>40.7484284</b>, longitude <b>-73.9856546</b>” to address “<b>Empire State Building 350 5th Ave, Floor 77 New York, NY 10118</b>”.\n",
    "\n",
    "Now that you have seen how to do forward and reverse geocoding manually, let’s see how it can be done programmatically in PYTHON on larger dataset by calling some APIs.\n",
    "<hr />\n",
    "\n",
    "\n",
    "### Geocoding with Python\n",
    "There is good number of PYTHON modules for Geocoding and Reverse Geocoding. In this tutorial, you will use the PYTHON Geocoding Toolbox named <strong>GeoPy</strong> which provides support for several popular geocoding web services including Google Geocoding API, OpenStreetMap Nominatim, ESRI ArcGIS, Bing Maps API etc.\n",
    "\n",
    "You will make use of OpenStreetMap Nominatim API because it is completely open source and has no limit to the number of requests you can make. But first, you need to install the libraries (geopy, pandas and folium) on your PYTHON environment using “<i>pip install geopy, pandas, folium</i>”.\n",
    "\n",
    "\n",
    "Let's import the libraries...\n",
    "\n"
   ]
  },
  {
   "cell_type": "markdown",
   "metadata": {
    "collapsed": true
   },
   "source": [
    "<code># Importing the necessary modules for this tutorial\n",
    "<span># Folium Library for visualizing data on interactive map</span>\n",
    "<span># Pandas Library for fast, flexible, and expressive data structures designed</span>\n",
    "\n",
    "import folium\n",
    "import pandas as pd\n",
    "from geopy.geocoders import Nominatim, ArcGIS, GoogleV3 # Geocoder APIs\n",
    "</code>"
   ]
  },
  {
   "cell_type": "markdown",
   "metadata": {
    "collapsed": true
   },
   "source": [
    "Note: You don’t have to import all the three geocoding APIs namely Nominatim, ArcGIS and GoogleV3 from the geopy module. However, I did so you can test and compare the result from the different APIs to find out which is more accurate with your specific dataset. To follow along and to get you familiar with geocoding, make use of “OpenStreetMap Nominatim API” for this article.\n",
    "\n",
    "To do forward geocoding (convert address to latitude/longitude), you first create a geocoder API object by calling the Nominatim() API class."
   ]
  },
  {
   "cell_type": "markdown",
   "metadata": {
    "collapsed": false
   },
   "source": [
    "<code>\n",
    "g = Nominatim() # You can tryout ArcGIS or GoogleV3 APIs to compare the results\n",
    "</code>"
   ]
  },
  {
   "cell_type": "markdown",
   "metadata": {},
   "source": [
    "In the next few lines of code below, you will do forward Geocoding and Reverse Geocoding respectively."
   ]
  },
  {
   "cell_type": "markdown",
   "metadata": {
    "collapsed": false
   },
   "source": [
    "<code># Geocoding - Address to lat/long\n",
    "\n",
    "n = g.geocode('Empire State Building New York', timeout=10) # Address to geocode\n",
    "print(n.latitude, n.longitude)\n",
    "</code>"
   ]
  },
  {
   "cell_type": "markdown",
   "metadata": {
    "collapsed": true
   },
   "source": [
    "By calling the geocode() method on the defined API object, you will supply an address as the first parameter to get it corresponding latitude and longitude attributes."
   ]
  },
  {
   "cell_type": "markdown",
   "metadata": {
    "collapsed": false
   },
   "source": [
    "<code># Reverse Geocoding - lat/long to Address\n",
    "\n",
    "n = g.reverse((40.7484284, -73.9856546198733), timeout=10) # Lat, Long to reverse geocode\n",
    "print(n.address)\n",
    "</code>"
   ]
  },
  {
   "cell_type": "markdown",
   "metadata": {
    "collapsed": true
   },
   "source": [
    "To reverse the process, you will call the reverse() method on the same API object and supply latitude and longitude coordinate values in that order to obtain their corresponding address attribute.\n",
    "\n",
    "The process above is the very basic of geocoding a single address and reverse geocoding of a pair of latitude and longitude coordinate using PYTHON.\n",
    "\n",
    "Now, let’s process a lager dataset in the next section. You will use Pandas library for the data handling/wrangling and Folium to subsequently visualize the geocoded result."
   ]
  },
  {
   "cell_type": "code",
   "execution_count": null,
   "metadata": {
    "collapsed": true
   },
   "outputs": [],
   "source": []
  },
  {
   "cell_type": "markdown",
   "metadata": {},
   "source": [
    "### Putting it all together – Bulk Geocoding\n",
    "\n",
    "In the previous section, you geocoded a single place/address; \"Empire State Building, New York\". Now, you will work with bulk dataset, which is broadened to contain list of similar places (buildings) in New York City.\n",
    "\n",
    "On this <a href=\"https://en.wikipedia.org/wiki/List_of_tallest_buildings_in_New_York_City\">wikipedia</a> page, there is an awesome list of tallest buildings in New York City. Unfortunately, the table has no detailed addresses or geographic coordinates of the buildings.\n",
    "\n",
    "<a href=\"https://en.wikipedia.org/wiki/List_of_tallest_buildings_in_New_York_City\"><img src=\"https://4.bp.blogspot.com/-liAzTVSnx1s/WmP7GgHkVQI/AAAAAAAACPg/KNuUr5Gn6fMOo_waQRfwGUD3T2L74GLGACLcBGAs/s1600/wikipedia-Tallest_Buildings_in_NY.PNG\" /></a>\n",
    "\n",
    "You will fix this missing data by applying geocoding technique you learned in the previous section. Specifically, you are going to look at the 'Name' column on the first table on the page where \"Empire State Building\" is the third ranked tallest building.\n",
    "\n",
    "There are many methods of importing such a tabulated list into a PYTHON environment, in this case use pandas <b>read_clipboard()</b> method. Copy “Rank and Name” columns to your clipboard and create a dataframe."
   ]
  },
  {
   "cell_type": "markdown",
   "metadata": {
    "collapsed": false,
    "scrolled": true
   },
   "source": [
    "<code># Create a dataframe from the copied table columns on the clipboard and display its first 10 records\n",
    "\n",
    "df = pd.read_clipboard()\n",
    "df.head(10)\n",
    "</code>"
   ]
  },
  {
   "cell_type": "markdown",
   "metadata": {
    "collapsed": true
   },
   "source": [
    "Just like with any other data science dataset, you should do some clean up on the data. In particular, remove special characters (such as * “ ? # ‘ \\ %) in the input dataset. This will enable the system read the names correctly without mixing there meaning."
   ]
  },
  {
   "cell_type": "markdown",
   "metadata": {
    "collapsed": false
   },
   "source": [
    "<code># Remove all characters except letters belonging to english alphabet, spaces and tabs\n",
    "\n",
    "df['Name'] = df['Name'].str.replace('[^A-Za-z\\s0-9]+', '')\n",
    "df.head(10)\n",
    "</code>"
   ]
  },
  {
   "cell_type": "markdown",
   "metadata": {
    "collapsed": true
   },
   "source": [
    "Also, the names may likely be in use in some other part of the world, you can help the system better know that you are primarily concerned with the building names in New York City by appending “New York City” to each building name as follow."
   ]
  },
  {
   "cell_type": "markdown",
   "metadata": {
    "collapsed": false
   },
   "source": [
    "<code># Create a new column \"Address_1\" to hold the updated building names\n",
    "\n",
    "df['Address_1'] = (df['Name'] + ', New York City')\n",
    "df.head(10)\n",
    "</code>"
   ]
  },
  {
   "cell_type": "markdown",
   "metadata": {
    "collapsed": false
   },
   "source": [
    "Next step is the loop through the each record on 'Address_1' column and get the corresponding address and geographic coordinates."
   ]
  },
  {
   "cell_type": "markdown",
   "metadata": {
    "collapsed": false,
    "scrolled": true
   },
   "source": [
    "<code>\n",
    "add_list = [] # an empty list to hold the geocoded results\n",
    "\n",
    "for add in df['Address_1']:\n",
    "    print ('Processing .... ', add)\n",
    "    \n",
    "    try:\n",
    "        n = g.geocode(add, timeout=10)\n",
    "        \n",
    "        data = (add, n.latitude, n.longitude, n.address)\n",
    "        add_list.append(data)\n",
    "        \n",
    "    except Exception:\n",
    "        data = (add, \"None\", \"None\", \"None\")\n",
    "        add_list.append(data)\n",
    "        \n",
    "</code>"
   ]
  },
  {
   "cell_type": "markdown",
   "metadata": {
    "collapsed": true
   },
   "source": [
    "Save the result into a dataframe."
   ]
  },
  {
   "cell_type": "markdown",
   "metadata": {
    "collapsed": false
   },
   "source": [
    "<code># make a new dataframe to hold geocoded reult\n",
    "\n",
    "add_list_df = pd.DataFrame(add_list, columns=['Address_1', 'Latitude', 'Longitude', 'Full Address'])\n",
    "add_list_df.head(10)\n",
    "</code>"
   ]
  },
  {
   "cell_type": "code",
   "execution_count": null,
   "metadata": {
    "collapsed": true
   },
   "outputs": [],
   "source": []
  },
  {
   "cell_type": "markdown",
   "metadata": {
    "collapsed": true
   },
   "source": [
    "### Accuracy of the Result\n",
    "A quick inspection of the latest data frame reveals that the obtained geographical coordinates of the buildings lies within the latitude and longitude territory of New York City (that is: 40°42′46″N, 74°00′21″W). There are some buildings that were not geocoded (their results were not found). This indicates that there geocode results are not available in the OpenStreetMap Nominatim API.\n",
    "\n",
    "Now, you can make use of some other APIs to check if their geocode results are available within the new API.\n",
    "\n",
    "First, use the pandas “loc” method to separate the records whose geocode results were found from those that were not found.\n"
   ]
  },
  {
   "cell_type": "markdown",
   "metadata": {
    "collapsed": false
   },
   "source": [
    "<code># Extract the records where value of Latitude and Longitude are the same (that is: None)\n",
    "\n",
    "geocode_found = add_list_df.loc[add_list_df['Latitude'] != add_list_df['Longitude']]\n",
    "\n",
    "geocode_not_found = add_list_df.loc[add_list_df['Latitude'] == add_list_df['Longitude']]\n",
    "geocode_not_found\n",
    "</code>"
   ]
  },
  {
   "cell_type": "code",
   "execution_count": null,
   "metadata": {
    "collapsed": false
   },
   "outputs": [],
   "source": []
  },
  {
   "cell_type": "markdown",
   "metadata": {
    "collapsed": true
   },
   "source": [
    "There are many ways to get this done, in this case you simply compare the latitude and longitude columns knowing that their numeric values can never be the same. Wherever the latitude and longitude cells have the same value, it will be a string value of “None”, which means a geocode result wasn’t found for that building’s name.\n",
    "\n",
    "Now, will you redefine the geocoder API object to call a different API (ArcGIS API for example) by calling the ArcGIS() API class."
   ]
  },
  {
   "cell_type": "markdown",
   "metadata": {
    "collapsed": true
   },
   "source": [
    "<code>\n",
    "g = ArcGIS() # redefine the API object\n",
    "</code>"
   ]
  },
  {
   "cell_type": "markdown",
   "metadata": {},
   "source": [
    "Then you can now loop through “geocode_not_found” data frame to see if you can get some results from the new API."
   ]
  },
  {
   "cell_type": "markdown",
   "metadata": {
    "collapsed": false
   },
   "source": [
    "<code>\n",
    "add_list = []\n",
    "\n",
    "for add in geocode_not_found['Address_1']:\n",
    "    print ('Processing .... ', add)\n",
    "    \n",
    "    try:\n",
    "        n = g.geocode(add, timeout=10)\n",
    "        \n",
    "        data = (add, n.latitude, n.longitude, n.address)\n",
    "        add_list.append(data)\n",
    "        \n",
    "    except Exception:\n",
    "        data = (add, \"None\", \"None\", \"None\")\n",
    "        add_list.append(data)\n",
    "        \n",
    "</code>"
   ]
  },
  {
   "cell_type": "markdown",
   "metadata": {},
   "source": [
    "Here you can see that ArcGIS was able to retrieve geocode results for the buildings that Nominatim API couldn’t retrieve."
   ]
  },
  {
   "cell_type": "markdown",
   "metadata": {
    "collapsed": false
   },
   "source": [
    "<code>\n",
    "add_list_df = pd.DataFrame(add_list, columns=['Address_1', 'Latitude', 'Longitude', 'Full Address'])\n",
    "add_list_df.head(10)\n",
    "</code>"
   ]
  },
  {
   "cell_type": "markdown",
   "metadata": {
    "collapsed": true
   },
   "source": [
    "You could also import the latitudes and longitudes as points unto Google maps to further validate their positional accuracy. As seen below, the latitude and longitude positions are at least more than 95% accurately geocoded.\n",
    "\n",
    "<a href='https://drive.google.com/open?id=1thU3u0lm_DgWxrTAGKmJ6DuMSlH8mRbc&usp=sharing'><img src='https://1.bp.blogspot.com/-toHB5CuJwco/WmPn5rOpO6I/AAAAAAAACPQ/QL0Yx4Pjoa47defSKrBPvE26E89-R9SWQCLcBGAs/s1600/GoogleMaps.PNG' /></a>\n"
   ]
  },
  {
   "cell_type": "code",
   "execution_count": null,
   "metadata": {
    "collapsed": true
   },
   "outputs": [],
   "source": []
  },
  {
   "cell_type": "markdown",
   "metadata": {},
   "source": [
    "### Mapping Geocoding Result\n",
    "\n",
    "\n",
    "\n"
   ]
  },
  {
   "cell_type": "markdown",
   "metadata": {},
   "source": [
    "An obvious purpose of geocoding is to visualize places/addresses on a map. Here, you will learn to visualize the “geocode_found” data frame on a simple interactive map using the folium library (recall you have imported the library at the beginning of this tutorial). Folium makes it easy to visualize data that's been manipulated in PYTHON on an interactive LeafletJS map."
   ]
  },
  {
   "cell_type": "markdown",
   "metadata": {},
   "source": [
    "<code># convert Full Address, Latitude and Longitude dataframe columns to list\n",
    "full_address_list = list(geocode_found['Full Address'])\n",
    "long_list = list(geocode_found[\"Longitude\"])\n",
    "lat_list = list(geocode_found[\"Latitude\"])\n",
    "\n",
    "\n",
    "<code># create folium map object\n",
    "geocoded_map = folium.Map(location=[40.7484284, -73.9856546], zoom_start=13) # location=[Lat, Long]\n",
    "\n",
    "\n",
    "<code># loop through the lists and create markers on the map object\n",
    "for long, lat, address in zip(long_list, lat_list, full_address_list):\n",
    "    geocoded_map.add_child(folium.Marker(location=[lat, long], popup=address))\n",
    "    geocoded_map.add_child(folium.CircleMarker(location=[lat, long], popup=address, radius=5, color='green', fill_color='green', fill_opacity=.2))\n",
    "\n",
    "\n",
    "<code># Display the map inline\n",
    "geocoded_map\n",
    "\n",
    "</code>"
   ]
  },
  {
   "cell_type": "code",
   "execution_count": null,
   "metadata": {
    "collapsed": false
   },
   "outputs": [],
   "source": []
  },
  {
   "cell_type": "markdown",
   "metadata": {},
   "source": [
    "### Conclusion\n",
    "\n",
    "You have just learned about geocoding and reverse geocoding in Python primarily using third party GeoPy module. The knowledge you have learned here will definitely help to locate addresses and places when working on datasets that are amenable to maps.\n",
    "Geocoding is useful for plotting and extracting places/addresses on a map for obvious reasons which may include:-\n",
    "- To visualize distances such as roads and pipelines\n",
    "- To deliver insight into public health information, \n",
    "- To determine voting demographics, \n",
    "- To analyze law enforcement and intelligence data, etc\n",
    "\n",
    "Be skeptical of your geocoding results.  Always inspect actual address match locations against other data sources, like street basemaps.  Compare your results to more than one geocode API sources if possible.  For example, if geocoded in OpenStreetMap Nominatim, import the results to Google Maps to see if they match its basemap.\n"
   ]
  },
  {
   "cell_type": "code",
   "execution_count": null,
   "metadata": {
    "collapsed": true
   },
   "outputs": [],
   "source": []
  },
  {
   "cell_type": "markdown",
   "metadata": {
    "collapsed": true
   },
   "source": [
    "### References\n",
    "\n",
    "- https://geopy.readthedocs.io\n",
    "\n",
    "- https://www.datacamp.com/community/tutorials/pandas-tutorial-dataframe-python\n",
    "\n",
    "- https://www.directionsmag.com/article/3536\n",
    "\n",
    "- http://gis.harvard.edu/services/blog/geocoding-best-practices\n"
   ]
  },
  {
   "cell_type": "code",
   "execution_count": null,
   "metadata": {
    "collapsed": true
   },
   "outputs": [],
   "source": []
  }
 ],
 "metadata": {
  "anaconda-cloud": {},
  "kernelspec": {
   "display_name": "Python [Root]",
   "language": "python",
   "name": "Python [Root]"
  },
  "language_info": {
   "codemirror_mode": {
    "name": "ipython",
    "version": 3
   },
   "file_extension": ".py",
   "mimetype": "text/x-python",
   "name": "python",
   "nbconvert_exporter": "python",
   "pygments_lexer": "ipython3",
   "version": "3.5.1"
  }
 },
 "nbformat": 4,
 "nbformat_minor": 0
}
